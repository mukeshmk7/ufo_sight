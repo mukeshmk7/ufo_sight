{
 "cells": [
  {
   "cell_type": "code",
   "execution_count": 1,
   "id": "9ed594e6",
   "metadata": {},
   "outputs": [
    {
     "name": "stderr",
     "output_type": "stream",
     "text": [
      "/home/ec2-user/anaconda3/envs/python3/lib/python3.10/site-packages/pandas/core/computation/expressions.py:21: UserWarning: Pandas requires version '2.8.0' or newer of 'numexpr' (version '2.7.3' currently installed).\n",
      "  from pandas.core.computation.check import NUMEXPR_INSTALLED\n"
     ]
    }
   ],
   "source": [
    "import numpy as np\n",
    "import pandas as pd\n",
    "import matplotlib.pyplot as plt\n",
    "import seaborn as sns"
   ]
  },
  {
   "cell_type": "code",
   "execution_count": 2,
   "id": "648bda24",
   "metadata": {},
   "outputs": [],
   "source": [
    "import warnings\n",
    "warnings.filterwarnings('ignore')"
   ]
  },
  {
   "cell_type": "code",
   "execution_count": 3,
   "id": "5145fbd2",
   "metadata": {},
   "outputs": [
    {
     "name": "stdout",
     "output_type": "stream",
     "text": [
      "sagemaker.config INFO - Not applying SDK defaults from location: /etc/xdg/sagemaker/config.yaml\n",
      "sagemaker.config INFO - Not applying SDK defaults from location: /home/ec2-user/.config/sagemaker/config.yaml\n"
     ]
    }
   ],
   "source": [
    "from datetime import datetime\n",
    "import boto3\n",
    "from sagemaker import get_execution_role\n",
    "import sagemaker.amazon.common as smac"
   ]
  },
  {
   "cell_type": "code",
   "execution_count": 4,
   "id": "62c85619",
   "metadata": {},
   "outputs": [
    {
     "data": {
      "text/plain": [
       "'s3://ufo-sight-data/input/ufo_fullset.csv'"
      ]
     },
     "execution_count": 4,
     "metadata": {},
     "output_type": "execute_result"
    }
   ],
   "source": [
    "role = get_execution_role()\n",
    "bucket = 'ufo-sight-data'\n",
    "prefix = 'input'\n",
    "key = 'ufo_fullset.csv'\n",
    "data_location = f's3://{bucket}/{prefix}/{key}'\n",
    "data_location"
   ]
  },
  {
   "cell_type": "code",
   "execution_count": 5,
   "id": "2e720854",
   "metadata": {},
   "outputs": [],
   "source": [
    "df = pd.read_csv(data_location, low_memory=False)"
   ]
  },
  {
   "cell_type": "code",
   "execution_count": 6,
   "id": "fffd9c96",
   "metadata": {},
   "outputs": [
    {
     "data": {
      "text/html": [
       "<div>\n",
       "<style scoped>\n",
       "    .dataframe tbody tr th:only-of-type {\n",
       "        vertical-align: middle;\n",
       "    }\n",
       "\n",
       "    .dataframe tbody tr th {\n",
       "        vertical-align: top;\n",
       "    }\n",
       "\n",
       "    .dataframe thead th {\n",
       "        text-align: right;\n",
       "    }\n",
       "</style>\n",
       "<table border=\"1\" class=\"dataframe\">\n",
       "  <thead>\n",
       "    <tr style=\"text-align: right;\">\n",
       "      <th></th>\n",
       "      <th>reportedTimestamp</th>\n",
       "      <th>eventDate</th>\n",
       "      <th>eventTime</th>\n",
       "      <th>shape</th>\n",
       "      <th>duration</th>\n",
       "      <th>witnesses</th>\n",
       "      <th>weather</th>\n",
       "      <th>firstName</th>\n",
       "      <th>lastName</th>\n",
       "      <th>latitude</th>\n",
       "      <th>longitude</th>\n",
       "      <th>sighting</th>\n",
       "      <th>physicalEvidence</th>\n",
       "      <th>contact</th>\n",
       "      <th>researchOutcome</th>\n",
       "    </tr>\n",
       "  </thead>\n",
       "  <tbody>\n",
       "    <tr>\n",
       "      <th>0</th>\n",
       "      <td>1977-04-04T04:02:23.340Z</td>\n",
       "      <td>1977-03-31</td>\n",
       "      <td>23:46</td>\n",
       "      <td>circle</td>\n",
       "      <td>4</td>\n",
       "      <td>1</td>\n",
       "      <td>rain</td>\n",
       "      <td>Ila</td>\n",
       "      <td>Bashirian</td>\n",
       "      <td>47.329444</td>\n",
       "      <td>-122.578889</td>\n",
       "      <td>Y</td>\n",
       "      <td>N</td>\n",
       "      <td>N</td>\n",
       "      <td>explained</td>\n",
       "    </tr>\n",
       "    <tr>\n",
       "      <th>1</th>\n",
       "      <td>1982-11-22T02:06:32.019Z</td>\n",
       "      <td>1982-11-15</td>\n",
       "      <td>22:04</td>\n",
       "      <td>disk</td>\n",
       "      <td>4</td>\n",
       "      <td>1</td>\n",
       "      <td>partly cloudy</td>\n",
       "      <td>Eriberto</td>\n",
       "      <td>Runolfsson</td>\n",
       "      <td>52.664913</td>\n",
       "      <td>-1.034894</td>\n",
       "      <td>Y</td>\n",
       "      <td>Y</td>\n",
       "      <td>N</td>\n",
       "      <td>explained</td>\n",
       "    </tr>\n",
       "    <tr>\n",
       "      <th>2</th>\n",
       "      <td>1992-12-07T19:06:52.482Z</td>\n",
       "      <td>1992-12-07</td>\n",
       "      <td>19:01</td>\n",
       "      <td>circle</td>\n",
       "      <td>49</td>\n",
       "      <td>1</td>\n",
       "      <td>clear</td>\n",
       "      <td>Miller</td>\n",
       "      <td>Watsica</td>\n",
       "      <td>38.951667</td>\n",
       "      <td>-92.333889</td>\n",
       "      <td>Y</td>\n",
       "      <td>N</td>\n",
       "      <td>N</td>\n",
       "      <td>explained</td>\n",
       "    </tr>\n",
       "    <tr>\n",
       "      <th>3</th>\n",
       "      <td>2011-02-24T21:06:34.898Z</td>\n",
       "      <td>2011-02-21</td>\n",
       "      <td>20:56</td>\n",
       "      <td>disk</td>\n",
       "      <td>13</td>\n",
       "      <td>1</td>\n",
       "      <td>partly cloudy</td>\n",
       "      <td>Clifton</td>\n",
       "      <td>Bechtelar</td>\n",
       "      <td>41.496944</td>\n",
       "      <td>-71.367778</td>\n",
       "      <td>Y</td>\n",
       "      <td>N</td>\n",
       "      <td>N</td>\n",
       "      <td>explained</td>\n",
       "    </tr>\n",
       "    <tr>\n",
       "      <th>4</th>\n",
       "      <td>1991-03-09T16:18:45.501Z</td>\n",
       "      <td>1991-03-09</td>\n",
       "      <td>11:42</td>\n",
       "      <td>circle</td>\n",
       "      <td>17</td>\n",
       "      <td>1</td>\n",
       "      <td>mostly cloudy</td>\n",
       "      <td>Jayda</td>\n",
       "      <td>Ebert</td>\n",
       "      <td>47.606389</td>\n",
       "      <td>-122.330833</td>\n",
       "      <td>Y</td>\n",
       "      <td>N</td>\n",
       "      <td>N</td>\n",
       "      <td>explained</td>\n",
       "    </tr>\n",
       "  </tbody>\n",
       "</table>\n",
       "</div>"
      ],
      "text/plain": [
       "          reportedTimestamp   eventDate eventTime   shape  duration  \\\n",
       "0  1977-04-04T04:02:23.340Z  1977-03-31     23:46  circle         4   \n",
       "1  1982-11-22T02:06:32.019Z  1982-11-15     22:04    disk         4   \n",
       "2  1992-12-07T19:06:52.482Z  1992-12-07     19:01  circle        49   \n",
       "3  2011-02-24T21:06:34.898Z  2011-02-21     20:56    disk        13   \n",
       "4  1991-03-09T16:18:45.501Z  1991-03-09     11:42  circle        17   \n",
       "\n",
       "   witnesses        weather firstName    lastName   latitude   longitude  \\\n",
       "0          1           rain       Ila   Bashirian  47.329444 -122.578889   \n",
       "1          1  partly cloudy  Eriberto  Runolfsson  52.664913   -1.034894   \n",
       "2          1          clear    Miller     Watsica  38.951667  -92.333889   \n",
       "3          1  partly cloudy   Clifton   Bechtelar  41.496944  -71.367778   \n",
       "4          1  mostly cloudy     Jayda       Ebert  47.606389 -122.330833   \n",
       "\n",
       "  sighting physicalEvidence contact researchOutcome  \n",
       "0        Y                N       N       explained  \n",
       "1        Y                Y       N       explained  \n",
       "2        Y                N       N       explained  \n",
       "3        Y                N       N       explained  \n",
       "4        Y                N       N       explained  "
      ]
     },
     "execution_count": 6,
     "metadata": {},
     "output_type": "execute_result"
    }
   ],
   "source": [
    "df.head()"
   ]
  },
  {
   "cell_type": "code",
   "execution_count": 7,
   "id": "cc4c3180",
   "metadata": {},
   "outputs": [
    {
     "name": "stdout",
     "output_type": "stream",
     "text": [
      "<class 'pandas.core.frame.DataFrame'>\n",
      "RangeIndex: 18000 entries, 0 to 17999\n",
      "Data columns (total 15 columns):\n",
      " #   Column             Non-Null Count  Dtype  \n",
      "---  ------             --------------  -----  \n",
      " 0   reportedTimestamp  18000 non-null  object \n",
      " 1   eventDate          18000 non-null  object \n",
      " 2   eventTime          18000 non-null  object \n",
      " 3   shape              17998 non-null  object \n",
      " 4   duration           18000 non-null  int64  \n",
      " 5   witnesses          18000 non-null  int64  \n",
      " 6   weather            18000 non-null  object \n",
      " 7   firstName          18000 non-null  object \n",
      " 8   lastName           18000 non-null  object \n",
      " 9   latitude           18000 non-null  float64\n",
      " 10  longitude          18000 non-null  float64\n",
      " 11  sighting           18000 non-null  object \n",
      " 12  physicalEvidence   18000 non-null  object \n",
      " 13  contact            18000 non-null  object \n",
      " 14  researchOutcome    18000 non-null  object \n",
      "dtypes: float64(2), int64(2), object(11)\n",
      "memory usage: 2.1+ MB\n"
     ]
    }
   ],
   "source": [
    "df.info()"
   ]
  },
  {
   "cell_type": "code",
   "execution_count": 8,
   "id": "60cfeefd",
   "metadata": {},
   "outputs": [
    {
     "data": {
      "text/plain": [
       "(18000, 15)"
      ]
     },
     "execution_count": 8,
     "metadata": {},
     "output_type": "execute_result"
    }
   ],
   "source": [
    "df.shape"
   ]
  },
  {
   "cell_type": "code",
   "execution_count": 10,
   "id": "b3766353",
   "metadata": {},
   "outputs": [
    {
     "data": {
      "text/plain": [
       "False"
      ]
     },
     "execution_count": 10,
     "metadata": {},
     "output_type": "execute_result"
    }
   ],
   "source": [
    "df.duplicated().any()"
   ]
  },
  {
   "cell_type": "code",
   "execution_count": 11,
   "id": "2d55b888",
   "metadata": {},
   "outputs": [
    {
     "data": {
      "text/plain": [
       "reportedTimestamp    False\n",
       "eventDate            False\n",
       "eventTime            False\n",
       "shape                 True\n",
       "duration             False\n",
       "witnesses            False\n",
       "weather              False\n",
       "firstName            False\n",
       "lastName             False\n",
       "latitude             False\n",
       "longitude            False\n",
       "sighting             False\n",
       "physicalEvidence     False\n",
       "contact              False\n",
       "researchOutcome      False\n",
       "dtype: bool"
      ]
     },
     "execution_count": 11,
     "metadata": {},
     "output_type": "execute_result"
    }
   ],
   "source": [
    "df.isna().any()"
   ]
  },
  {
   "cell_type": "code",
   "execution_count": 12,
   "id": "f23eef55",
   "metadata": {},
   "outputs": [
    {
     "data": {
      "text/plain": [
       "reportedTimestamp    0\n",
       "eventDate            0\n",
       "eventTime            0\n",
       "shape                2\n",
       "duration             0\n",
       "witnesses            0\n",
       "weather              0\n",
       "firstName            0\n",
       "lastName             0\n",
       "latitude             0\n",
       "longitude            0\n",
       "sighting             0\n",
       "physicalEvidence     0\n",
       "contact              0\n",
       "researchOutcome      0\n",
       "dtype: int64"
      ]
     },
     "execution_count": 12,
     "metadata": {},
     "output_type": "execute_result"
    }
   ],
   "source": [
    "df.isna().sum()"
   ]
  },
  {
   "cell_type": "code",
   "execution_count": 13,
   "id": "507125ee",
   "metadata": {},
   "outputs": [],
   "source": [
    "df_geo = df[['latitude', 'longitude']]"
   ]
  },
  {
   "cell_type": "code",
   "execution_count": 14,
   "id": "444b60f2",
   "metadata": {},
   "outputs": [
    {
     "data": {
      "text/html": [
       "<div>\n",
       "<style scoped>\n",
       "    .dataframe tbody tr th:only-of-type {\n",
       "        vertical-align: middle;\n",
       "    }\n",
       "\n",
       "    .dataframe tbody tr th {\n",
       "        vertical-align: top;\n",
       "    }\n",
       "\n",
       "    .dataframe thead th {\n",
       "        text-align: right;\n",
       "    }\n",
       "</style>\n",
       "<table border=\"1\" class=\"dataframe\">\n",
       "  <thead>\n",
       "    <tr style=\"text-align: right;\">\n",
       "      <th></th>\n",
       "      <th>latitude</th>\n",
       "      <th>longitude</th>\n",
       "    </tr>\n",
       "  </thead>\n",
       "  <tbody>\n",
       "    <tr>\n",
       "      <th>0</th>\n",
       "      <td>47.329444</td>\n",
       "      <td>-122.578889</td>\n",
       "    </tr>\n",
       "    <tr>\n",
       "      <th>1</th>\n",
       "      <td>52.664913</td>\n",
       "      <td>-1.034894</td>\n",
       "    </tr>\n",
       "    <tr>\n",
       "      <th>2</th>\n",
       "      <td>38.951667</td>\n",
       "      <td>-92.333889</td>\n",
       "    </tr>\n",
       "    <tr>\n",
       "      <th>3</th>\n",
       "      <td>41.496944</td>\n",
       "      <td>-71.367778</td>\n",
       "    </tr>\n",
       "    <tr>\n",
       "      <th>4</th>\n",
       "      <td>47.606389</td>\n",
       "      <td>-122.330833</td>\n",
       "    </tr>\n",
       "  </tbody>\n",
       "</table>\n",
       "</div>"
      ],
      "text/plain": [
       "    latitude   longitude\n",
       "0  47.329444 -122.578889\n",
       "1  52.664913   -1.034894\n",
       "2  38.951667  -92.333889\n",
       "3  41.496944  -71.367778\n",
       "4  47.606389 -122.330833"
      ]
     },
     "execution_count": 14,
     "metadata": {},
     "output_type": "execute_result"
    }
   ],
   "source": [
    "df_geo.head()"
   ]
  },
  {
   "cell_type": "code",
   "execution_count": 15,
   "id": "4debe24e",
   "metadata": {},
   "outputs": [
    {
     "name": "stdout",
     "output_type": "stream",
     "text": [
      "<class 'pandas.core.frame.DataFrame'>\n",
      "RangeIndex: 18000 entries, 0 to 17999\n",
      "Data columns (total 2 columns):\n",
      " #   Column     Non-Null Count  Dtype  \n",
      "---  ------     --------------  -----  \n",
      " 0   latitude   18000 non-null  float64\n",
      " 1   longitude  18000 non-null  float64\n",
      "dtypes: float64(2)\n",
      "memory usage: 281.4 KB\n"
     ]
    }
   ],
   "source": [
    "df_geo.info()"
   ]
  },
  {
   "cell_type": "code",
   "execution_count": 16,
   "id": "f37e14ae",
   "metadata": {},
   "outputs": [
    {
     "name": "stdout",
     "output_type": "stream",
     "text": [
      "Are there any missing values? False\n"
     ]
    }
   ],
   "source": [
    "missing_values = df_geo.isnull().values.any()\n",
    "print('Are there any missing values? {}'.format(missing_values))\n",
    "if(missing_values):\n",
    "    df_geo[df_geo.isnull().any(axis=1)]"
   ]
  },
  {
   "cell_type": "code",
   "execution_count": 18,
   "id": "bd206ff3",
   "metadata": {},
   "outputs": [],
   "source": [
    "data = df_geo.values.astype('float32')"
   ]
  },
  {
   "cell_type": "code",
   "execution_count": 19,
   "id": "130d7951",
   "metadata": {},
   "outputs": [
    {
     "data": {
      "text/plain": [
       "array([[  47.329445, -122.57889 ],\n",
       "       [  52.664913,   -1.034894],\n",
       "       [  38.951668,  -92.333885],\n",
       "       ...,\n",
       "       [  36.86639 ,  -83.888885],\n",
       "       [  35.385834,  -94.39833 ],\n",
       "       [  29.883055,  -97.94111 ]], dtype=float32)"
      ]
     },
     "execution_count": 19,
     "metadata": {},
     "output_type": "execute_result"
    }
   ],
   "source": [
    "data"
   ]
  },
  {
   "cell_type": "code",
   "execution_count": 21,
   "id": "a44a4ab9",
   "metadata": {},
   "outputs": [],
   "source": [
    "from sagemaker import KMeans\n",
    "clusters = 10\n",
    "output_location = f's3://{bucket}/model-artifacts'\n",
    "kmeans = KMeans(role=role, instance_count=2, instance_type='ml.c4.xlarge', output_path=output_location, k=clusters)"
   ]
  },
  {
   "cell_type": "code",
   "execution_count": 22,
   "id": "c072d0a0",
   "metadata": {},
   "outputs": [
    {
     "name": "stdout",
     "output_type": "stream",
     "text": [
      "Here is the job name kmeans-geo-job-20231224150919\n"
     ]
    }
   ],
   "source": [
    "job_name = 'kmeans-geo-job-{}'.format(datetime.now().strftime(\"%Y%m%d%H%M%S\"))\n",
    "print('Here is the job name {}'.format(job_name))"
   ]
  },
  {
   "cell_type": "code",
   "execution_count": 23,
   "id": "5bd5ed69",
   "metadata": {},
   "outputs": [
    {
     "name": "stderr",
     "output_type": "stream",
     "text": [
      "INFO:sagemaker.image_uris:Same images used for training and inference. Defaulting to image scope: inference.\n",
      "INFO:sagemaker.image_uris:Ignoring unnecessary instance type: None.\n",
      "INFO:sagemaker:Creating training-job with name: kmeans-geo-job-20231224150919\n"
     ]
    },
    {
     "name": "stdout",
     "output_type": "stream",
     "text": [
      "2023-12-24 15:10:22 Starting - Starting the training job...\n",
      "2023-12-24 15:10:38 Starting - Preparing the instances for training.........\n",
      "2023-12-24 15:11:56 Downloading - Downloading input data...\n",
      "2023-12-24 15:12:41 Downloading - Downloading the training image......\n",
      "2023-12-24 15:13:47 Training - Training image download completed. Training in progress..\u001b[34mDocker entrypoint called with argument(s): train\u001b[0m\n",
      "\u001b[34mRunning default environment configuration script\u001b[0m\n",
      "\u001b[34m[12/24/2023 15:13:55 INFO 140437049112384] Reading default configuration from /opt/amazon/lib/python3.8/site-packages/algorithm/resources/default-input.json: {'init_method': 'random', 'mini_batch_size': '5000', 'epochs': '1', 'extra_center_factor': 'auto', 'local_lloyd_max_iter': '300', 'local_lloyd_tol': '0.0001', 'local_lloyd_init_method': 'kmeans++', 'local_lloyd_num_trials': 'auto', 'half_life_time_size': '0', 'eval_metrics': '[\"msd\"]', 'force_dense': 'true', '_disable_wait_to_read': 'false', '_enable_profiler': 'false', '_kvstore': 'auto', '_log_level': 'info', '_num_gpus': 'auto', '_num_kv_servers': '1', '_num_slices': '1', '_tuning_objective_metric': ''}\u001b[0m\n",
      "\u001b[34m[12/24/2023 15:13:55 INFO 140437049112384] Merging with provided configuration from /opt/ml/input/config/hyperparameters.json: {'feature_dim': '2', 'force_dense': 'True', 'k': '10'}\u001b[0m\n",
      "\u001b[34m[12/24/2023 15:13:55 INFO 140437049112384] Final configuration: {'init_method': 'random', 'mini_batch_size': '5000', 'epochs': '1', 'extra_center_factor': 'auto', 'local_lloyd_max_iter': '300', 'local_lloyd_tol': '0.0001', 'local_lloyd_init_method': 'kmeans++', 'local_lloyd_num_trials': 'auto', 'half_life_time_size': '0', 'eval_metrics': '[\"msd\"]', 'force_dense': 'True', '_disable_wait_to_read': 'false', '_enable_profiler': 'false', '_kvstore': 'auto', '_log_level': 'info', '_num_gpus': 'auto', '_num_kv_servers': '1', '_num_slices': '1', '_tuning_objective_metric': '', 'feature_dim': '2', 'k': '10'}\u001b[0m\n",
      "\u001b[34m/opt/amazon/lib/python3.8/site-packages/mxnet/model.py:97: SyntaxWarning: \"is\" with a literal. Did you mean \"==\"?\n",
      "  if num_device is 1 and 'dist' not in kvstore:\u001b[0m\n",
      "\u001b[34m[12/24/2023 15:13:57 WARNING 140437049112384] Loggers have already been setup.\u001b[0m\n",
      "\u001b[34m[12/24/2023 15:13:57 INFO 140437049112384] Final configuration: {'init_method': 'random', 'mini_batch_size': '5000', 'epochs': '1', 'extra_center_factor': 'auto', 'local_lloyd_max_iter': '300', 'local_lloyd_tol': '0.0001', 'local_lloyd_init_method': 'kmeans++', 'local_lloyd_num_trials': 'auto', 'half_life_time_size': '0', 'eval_metrics': '[\"msd\"]', 'force_dense': 'True', '_disable_wait_to_read': 'false', '_enable_profiler': 'false', '_kvstore': 'auto', '_log_level': 'info', '_num_gpus': 'auto', '_num_kv_servers': '1', '_num_slices': '1', '_tuning_objective_metric': '', 'feature_dim': '2', 'k': '10'}\u001b[0m\n",
      "\u001b[34m[12/24/2023 15:13:57 WARNING 140437049112384] Loggers have already been setup.\u001b[0m\n",
      "\u001b[34m[12/24/2023 15:13:57 INFO 140437049112384] Environment: {'ENVROOT': '/opt/amazon', 'PROTOCOL_BUFFERS_PYTHON_IMPLEMENTATION': 'cpp', 'HOSTNAME': 'ip-10-0-194-81.ec2.internal', 'TRAINING_JOB_NAME': 'kmeans-geo-job-20231224150919', 'NVIDIA_REQUIRE_CUDA': 'cuda>=9.0', 'TRAINING_JOB_ARN': 'arn:aws:sagemaker:us-east-1:718249129608:training-job/kmeans-geo-job-20231224150919', 'AWS_CONTAINER_CREDENTIALS_RELATIVE_URI': '/v2/credentials/proxy-e35efb2224ea8c7f5a58b18987ce7bdf3f6db70e20760a12d4437cfe9df8a88c-customer', 'CANONICAL_ENVROOT': '/opt/amazon', 'PYTHONUNBUFFERED': 'TRUE', 'NVIDIA_VISIBLE_DEVICES': 'all', 'LD_LIBRARY_PATH': '/opt/amazon/lib/python3.8/site-packages/cv2/../../../../lib:/usr/local/nvidia/lib64:/opt/amazon/lib', 'MXNET_KVSTORE_BIGARRAY_BOUND': '400000000', 'NVIDIA_DRIVER_CAPABILITIES': 'compute,utility', 'SAGEMAKER_MANAGED_WARMPOOL_CACHE_DIRECTORY': '/opt/ml/sagemaker/warmpoolcache', 'PATH': '/opt/amazon/bin:/usr/local/nvidia/bin:/usr/local/sbin:/usr/local/bin:/usr/sbin:/usr/bin:/sbin:/bin', 'PWD': '/', 'LANG': 'en_US.utf8', 'AWS_REGION': 'us-east-1', 'SAGEMAKER_METRICS_DIRECTORY': '/opt/ml/output/metrics/sagemaker', 'CUDA_VERSION': '11.1', 'HOME': '/root', 'SHLVL': '1', 'CUDA_COMPAT_NDRIVER_SUPPORTED_VERSION': '455.32.00', 'PROTOCOL_BUFFERS_PYTHON_IMPLEMENTATION_VERSION': '2', 'OMP_NUM_THREADS': '2', 'DMLC_INTERFACE': 'eth0', 'SAGEMAKER_HTTP_PORT': '8080', 'SAGEMAKER_DATA_PATH': '/opt/ml', 'DMLC_ROLE': 'worker', 'DMLC_PS_ROOT_URI': '10.0.245.152', 'DMLC_PS_ROOT_PORT': '9000', 'DMLC_NUM_SERVER': '1', 'DMLC_NUM_WORKER': '2'}\u001b[0m\n",
      "\u001b[34mProcess 7 is a worker.\u001b[0m\n",
      "\u001b[34m[12/24/2023 15:13:57 INFO 140437049112384] Using default worker.\u001b[0m\n",
      "\u001b[34m[12/24/2023 15:13:57 INFO 140437049112384] Loaded iterator creator application/x-recordio-protobuf for content type ('application/x-recordio-protobuf', '1.0')\u001b[0m\n",
      "\u001b[34m[12/24/2023 15:13:57 INFO 140437049112384] Create Store: dist_async\u001b[0m\n",
      "\u001b[34mDocker entrypoint called with argument(s): train\u001b[0m\n",
      "\u001b[34mRunning default environment configuration script\u001b[0m\n",
      "\u001b[34m[12/24/2023 15:13:58 INFO 139908002719552] Reading default configuration from /opt/amazon/lib/python3.8/site-packages/algorithm/resources/default-input.json: {'init_method': 'random', 'mini_batch_size': '5000', 'epochs': '1', 'extra_center_factor': 'auto', 'local_lloyd_max_iter': '300', 'local_lloyd_tol': '0.0001', 'local_lloyd_init_method': 'kmeans++', 'local_lloyd_num_trials': 'auto', 'half_life_time_size': '0', 'eval_metrics': '[\"msd\"]', 'force_dense': 'true', '_disable_wait_to_read': 'false', '_enable_profiler': 'false', '_kvstore': 'auto', '_log_level': 'info', '_num_gpus': 'auto', '_num_kv_servers': '1', '_num_slices': '1', '_tuning_objective_metric': ''}\u001b[0m\n",
      "\u001b[34m[12/24/2023 15:13:58 INFO 139908002719552] Merging with provided configuration from /opt/ml/input/config/hyperparameters.json: {'feature_dim': '2', 'force_dense': 'True', 'k': '10'}\u001b[0m\n",
      "\u001b[34m[12/24/2023 15:13:58 INFO 139908002719552] Final configuration: {'init_method': 'random', 'mini_batch_size': '5000', 'epochs': '1', 'extra_center_factor': 'auto', 'local_lloyd_max_iter': '300', 'local_lloyd_tol': '0.0001', 'local_lloyd_init_method': 'kmeans++', 'local_lloyd_num_trials': 'auto', 'half_life_time_size': '0', 'eval_metrics': '[\"msd\"]', 'force_dense': 'True', '_disable_wait_to_read': 'false', '_enable_profiler': 'false', '_kvstore': 'auto', '_log_level': 'info', '_num_gpus': 'auto', '_num_kv_servers': '1', '_num_slices': '1', '_tuning_objective_metric': '', 'feature_dim': '2', 'k': '10'}\u001b[0m\n",
      "\u001b[34m/opt/amazon/lib/python3.8/site-packages/mxnet/model.py:97: SyntaxWarning: \"is\" with a literal. Did you mean \"==\"?\n",
      "  if num_device is 1 and 'dist' not in kvstore:\u001b[0m\n",
      "\u001b[34m[12/24/2023 15:14:00 WARNING 139908002719552] Loggers have already been setup.\u001b[0m\n",
      "\u001b[34m[12/24/2023 15:14:00 INFO 139908002719552] Final configuration: {'init_method': 'random', 'mini_batch_size': '5000', 'epochs': '1', 'extra_center_factor': 'auto', 'local_lloyd_max_iter': '300', 'local_lloyd_tol': '0.0001', 'local_lloyd_init_method': 'kmeans++', 'local_lloyd_num_trials': 'auto', 'half_life_time_size': '0', 'eval_metrics': '[\"msd\"]', 'force_dense': 'True', '_disable_wait_to_read': 'false', '_enable_profiler': 'false', '_kvstore': 'auto', '_log_level': 'info', '_num_gpus': 'auto', '_num_kv_servers': '1', '_num_slices': '1', '_tuning_objective_metric': '', 'feature_dim': '2', 'k': '10'}\u001b[0m\n",
      "\u001b[34m[12/24/2023 15:14:00 WARNING 139908002719552] Loggers have already been setup.\u001b[0m\n",
      "\u001b[34m[12/24/2023 15:14:00 INFO 139908002719552] Launching parameter server for role scheduler\u001b[0m\n",
      "\u001b[34m[12/24/2023 15:14:00 INFO 139908002719552] {'ENVROOT': '/opt/amazon', 'PROTOCOL_BUFFERS_PYTHON_IMPLEMENTATION': 'cpp', 'HOSTNAME': 'ip-10-0-245-152.ec2.internal', 'TRAINING_JOB_NAME': 'kmeans-geo-job-20231224150919', 'NVIDIA_REQUIRE_CUDA': 'cuda>=9.0', 'TRAINING_JOB_ARN': 'arn:aws:sagemaker:us-east-1:718249129608:training-job/kmeans-geo-job-20231224150919', 'AWS_CONTAINER_CREDENTIALS_RELATIVE_URI': '/v2/credentials/proxy-e35efb2224ea8c7f5a58b18987ce7bdf3f6db70e20760a12d4437cfe9df8a88c-customer', 'CANONICAL_ENVROOT': '/opt/amazon', 'PYTHONUNBUFFERED': 'TRUE', 'NVIDIA_VISIBLE_DEVICES': 'all', 'LD_LIBRARY_PATH': '/opt/amazon/lib/python3.8/site-packages/cv2/../../../../lib:/usr/local/nvidia/lib64:/opt/amazon/lib', 'MXNET_KVSTORE_BIGARRAY_BOUND': '400000000', 'NVIDIA_DRIVER_CAPABILITIES': 'compute,utility', 'SAGEMAKER_MANAGED_WARMPOOL_CACHE_DIRECTORY': '/opt/ml/sagemaker/warmpoolcache', 'PATH': '/opt/amazon/bin:/usr/local/nvidia/bin:/usr/local/sbin:/usr/local/bin:/usr/sbin:/usr/bin:/sbin:/bin', 'PWD': '/', 'LANG': 'en_US.utf8', 'AWS_REGION': 'us-east-1', 'SAGEMAKER_METRICS_DIRECTORY': '/opt/ml/output/metrics/sagemaker', 'CUDA_VERSION': '11.1', 'HOME': '/root', 'SHLVL': '1', 'CUDA_COMPAT_NDRIVER_SUPPORTED_VERSION': '455.32.00', 'PROTOCOL_BUFFERS_PYTHON_IMPLEMENTATION_VERSION': '2', 'OMP_NUM_THREADS': '2', 'DMLC_INTERFACE': 'eth0', 'SAGEMAKER_HTTP_PORT': '8080', 'SAGEMAKER_DATA_PATH': '/opt/ml'}\u001b[0m\n",
      "\u001b[34m[12/24/2023 15:14:00 INFO 139908002719552] envs={'ENVROOT': '/opt/amazon', 'PROTOCOL_BUFFERS_PYTHON_IMPLEMENTATION': 'cpp', 'HOSTNAME': 'ip-10-0-245-152.ec2.internal', 'TRAINING_JOB_NAME': 'kmeans-geo-job-20231224150919', 'NVIDIA_REQUIRE_CUDA': 'cuda>=9.0', 'TRAINING_JOB_ARN': 'arn:aws:sagemaker:us-east-1:718249129608:training-job/kmeans-geo-job-20231224150919', 'AWS_CONTAINER_CREDENTIALS_RELATIVE_URI': '/v2/credentials/proxy-e35efb2224ea8c7f5a58b18987ce7bdf3f6db70e20760a12d4437cfe9df8a88c-customer', 'CANONICAL_ENVROOT': '/opt/amazon', 'PYTHONUNBUFFERED': 'TRUE', 'NVIDIA_VISIBLE_DEVICES': 'all', 'LD_LIBRARY_PATH': '/opt/amazon/lib/python3.8/site-packages/cv2/../../../../lib:/usr/local/nvidia/lib64:/opt/amazon/lib', 'MXNET_KVSTORE_BIGARRAY_BOUND': '400000000', 'NVIDIA_DRIVER_CAPABILITIES': 'compute,utility', 'SAGEMAKER_MANAGED_WARMPOOL_CACHE_DIRECTORY': '/opt/ml/sagemaker/warmpoolcache', 'PATH': '/opt/amazon/bin:/usr/local/nvidia/bin:/usr/local/sbin:/usr/local/bin:/usr/sbin:/usr/bin:/sbin:/bin', 'PWD': '/', 'LANG': 'en_US.utf8', 'AWS_REGION': 'us-east-1', 'SAGEMAKER_METRICS_DIRECTORY': '/opt/ml/output/metrics/sagemaker', 'CUDA_VERSION': '11.1', 'HOME': '/root', 'SHLVL': '1', 'CUDA_COMPAT_NDRIVER_SUPPORTED_VERSION': '455.32.00', 'PROTOCOL_BUFFERS_PYTHON_IMPLEMENTATION_VERSION': '2', 'OMP_NUM_THREADS': '2', 'DMLC_INTERFACE': 'eth0', 'SAGEMAKER_HTTP_PORT': '8080', 'SAGEMAKER_DATA_PATH': '/opt/ml', 'DMLC_ROLE': 'scheduler', 'DMLC_PS_ROOT_URI': '10.0.245.152', 'DMLC_PS_ROOT_PORT': '9000', 'DMLC_NUM_SERVER': '1', 'DMLC_NUM_WORKER': '2'}\u001b[0m\n",
      "\u001b[34m[12/24/2023 15:14:00 INFO 139908002719552] Launching parameter server for role server\u001b[0m\n",
      "\u001b[34m[12/24/2023 15:14:00 INFO 139908002719552] {'ENVROOT': '/opt/amazon', 'PROTOCOL_BUFFERS_PYTHON_IMPLEMENTATION': 'cpp', 'HOSTNAME': 'ip-10-0-245-152.ec2.internal', 'TRAINING_JOB_NAME': 'kmeans-geo-job-20231224150919', 'NVIDIA_REQUIRE_CUDA': 'cuda>=9.0', 'TRAINING_JOB_ARN': 'arn:aws:sagemaker:us-east-1:718249129608:training-job/kmeans-geo-job-20231224150919', 'AWS_CONTAINER_CREDENTIALS_RELATIVE_URI': '/v2/credentials/proxy-e35efb2224ea8c7f5a58b18987ce7bdf3f6db70e20760a12d4437cfe9df8a88c-customer', 'CANONICAL_ENVROOT': '/opt/amazon', 'PYTHONUNBUFFERED': 'TRUE', 'NVIDIA_VISIBLE_DEVICES': 'all', 'LD_LIBRARY_PATH': '/opt/amazon/lib/python3.8/site-packages/cv2/../../../../lib:/usr/local/nvidia/lib64:/opt/amazon/lib', 'MXNET_KVSTORE_BIGARRAY_BOUND': '400000000', 'NVIDIA_DRIVER_CAPABILITIES': 'compute,utility', 'SAGEMAKER_MANAGED_WARMPOOL_CACHE_DIRECTORY': '/opt/ml/sagemaker/warmpoolcache', 'PATH': '/opt/amazon/bin:/usr/local/nvidia/bin:/usr/local/sbin:/usr/local/bin:/usr/sbin:/usr/bin:/sbin:/bin', 'PWD': '/', 'LANG': 'en_US.utf8', 'AWS_REGION': 'us-east-1', 'SAGEMAKER_METRICS_DIRECTORY': '/opt/ml/output/metrics/sagemaker', 'CUDA_VERSION': '11.1', 'HOME': '/root', 'SHLVL': '1', 'CUDA_COMPAT_NDRIVER_SUPPORTED_VERSION': '455.32.00', 'PROTOCOL_BUFFERS_PYTHON_IMPLEMENTATION_VERSION': '2', 'OMP_NUM_THREADS': '2', 'DMLC_INTERFACE': 'eth0', 'SAGEMAKER_HTTP_PORT': '8080', 'SAGEMAKER_DATA_PATH': '/opt/ml'}\u001b[0m\n",
      "\u001b[34m[12/24/2023 15:14:00 INFO 139908002719552] envs={'ENVROOT': '/opt/amazon', 'PROTOCOL_BUFFERS_PYTHON_IMPLEMENTATION': 'cpp', 'HOSTNAME': 'ip-10-0-245-152.ec2.internal', 'TRAINING_JOB_NAME': 'kmeans-geo-job-20231224150919', 'NVIDIA_REQUIRE_CUDA': 'cuda>=9.0', 'TRAINING_JOB_ARN': 'arn:aws:sagemaker:us-east-1:718249129608:training-job/kmeans-geo-job-20231224150919', 'AWS_CONTAINER_CREDENTIALS_RELATIVE_URI': '/v2/credentials/proxy-e35efb2224ea8c7f5a58b18987ce7bdf3f6db70e20760a12d4437cfe9df8a88c-customer', 'CANONICAL_ENVROOT': '/opt/amazon', 'PYTHONUNBUFFERED': 'TRUE', 'NVIDIA_VISIBLE_DEVICES': 'all', 'LD_LIBRARY_PATH': '/opt/amazon/lib/python3.8/site-packages/cv2/../../../../lib:/usr/local/nvidia/lib64:/opt/amazon/lib', 'MXNET_KVSTORE_BIGARRAY_BOUND': '400000000', 'NVIDIA_DRIVER_CAPABILITIES': 'compute,utility', 'SAGEMAKER_MANAGED_WARMPOOL_CACHE_DIRECTORY': '/opt/ml/sagemaker/warmpoolcache', 'PATH': '/opt/amazon/bin:/usr/local/nvidia/bin:/usr/local/sbin:/usr/local/bin:/usr/sbin:/usr/bin:/sbin:/bin', 'PWD': '/', 'LANG': 'en_US.utf8', 'AWS_REGION': 'us-east-1', 'SAGEMAKER_METRICS_DIRECTORY': '/opt/ml/output/metrics/sagemaker', 'CUDA_VERSION': '11.1', 'HOME': '/root', 'SHLVL': '1', 'CUDA_COMPAT_NDRIVER_SUPPORTED_VERSION': '455.32.00', 'PROTOCOL_BUFFERS_PYTHON_IMPLEMENTATION_VERSION': '2', 'OMP_NUM_THREADS': '2', 'DMLC_INTERFACE': 'eth0', 'SAGEMAKER_HTTP_PORT': '8080', 'SAGEMAKER_DATA_PATH': '/opt/ml', 'DMLC_ROLE': 'server', 'DMLC_PS_ROOT_URI': '10.0.245.152', 'DMLC_PS_ROOT_PORT': '9000', 'DMLC_NUM_SERVER': '1', 'DMLC_NUM_WORKER': '2'}\u001b[0m\n",
      "\u001b[34m[12/24/2023 15:14:00 INFO 139908002719552] Environment: {'ENVROOT': '/opt/amazon', 'PROTOCOL_BUFFERS_PYTHON_IMPLEMENTATION': 'cpp', 'HOSTNAME': 'ip-10-0-245-152.ec2.internal', 'TRAINING_JOB_NAME': 'kmeans-geo-job-20231224150919', 'NVIDIA_REQUIRE_CUDA': 'cuda>=9.0', 'TRAINING_JOB_ARN': 'arn:aws:sagemaker:us-east-1:718249129608:training-job/kmeans-geo-job-20231224150919', 'AWS_CONTAINER_CREDENTIALS_RELATIVE_URI': '/v2/credentials/proxy-e35efb2224ea8c7f5a58b18987ce7bdf3f6db70e20760a12d4437cfe9df8a88c-customer', 'CANONICAL_ENVROOT': '/opt/amazon', 'PYTHONUNBUFFERED': 'TRUE', 'NVIDIA_VISIBLE_DEVICES': 'all', 'LD_LIBRARY_PATH': '/opt/amazon/lib/python3.8/site-packages/cv2/../../../../lib:/usr/local/nvidia/lib64:/opt/amazon/lib', 'MXNET_KVSTORE_BIGARRAY_BOUND': '400000000', 'NVIDIA_DRIVER_CAPABILITIES': 'compute,utility', 'SAGEMAKER_MANAGED_WARMPOOL_CACHE_DIRECTORY': '/opt/ml/sagemaker/warmpoolcache', 'PATH': '/opt/amazon/bin:/usr/local/nvidia/bin:/usr/local/sbin:/usr/local/bin:/usr/sbin:/usr/bin:/sbin:/bin', 'PWD': '/', 'LANG': 'en_US.utf8', 'AWS_REGION': 'us-east-1', 'SAGEMAKER_METRICS_DIRECTORY': '/opt/ml/output/metrics/sagemaker', 'CUDA_VERSION': '11.1', 'HOME': '/root', 'SHLVL': '1', 'CUDA_COMPAT_NDRIVER_SUPPORTED_VERSION': '455.32.00', 'PROTOCOL_BUFFERS_PYTHON_IMPLEMENTATION_VERSION': '2', 'OMP_NUM_THREADS': '2', 'DMLC_INTERFACE': 'eth0', 'SAGEMAKER_HTTP_PORT': '8080', 'SAGEMAKER_DATA_PATH': '/opt/ml', 'DMLC_ROLE': 'worker', 'DMLC_PS_ROOT_URI': '10.0.245.152', 'DMLC_PS_ROOT_PORT': '9000', 'DMLC_NUM_SERVER': '1', 'DMLC_NUM_WORKER': '2'}\u001b[0m\n",
      "\u001b[34mProcess 34 is a shell:scheduler.\u001b[0m\n",
      "\u001b[34mProcess 43 is a shell:server.\u001b[0m\n",
      "\u001b[34mProcess 7 is a worker.\u001b[0m\n",
      "\u001b[34m[12/24/2023 15:14:00 INFO 139908002719552] Using default worker.\u001b[0m\n",
      "\u001b[34m[12/24/2023 15:14:00 INFO 139908002719552] Loaded iterator creator application/x-recordio-protobuf for content type ('application/x-recordio-protobuf', '1.0')\u001b[0m\n",
      "\u001b[34m[12/24/2023 15:14:00 INFO 139908002719552] Create Store: dist_async\u001b[0m\n",
      "\u001b[35m/opt/amazon/python3.8/lib/python3.8/subprocess.py:848: RuntimeWarning: line buffering (buffering=1) isn't supported in binary mode, the default buffer size will be used\n",
      "  self.stdout = io.open(c2pread, 'rb', bufsize)\u001b[0m\n",
      "\u001b[35m[12/24/2023 15:14:01 INFO 140437049112384] nvidia-smi: took 0.031 seconds to run.\u001b[0m\n",
      "\u001b[35m[12/24/2023 15:14:01 INFO 140437049112384] nvidia-smi identified 0 GPUs.\u001b[0m\n",
      "\u001b[35m[12/24/2023 15:14:01 INFO 140437049112384] Number of GPUs being used: 0\u001b[0m\n",
      "\u001b[35m[12/24/2023 15:14:01 INFO 140437049112384] Checkpoint loading and saving are disabled.\u001b[0m\n",
      "\u001b[35m[12/24/2023 15:14:01 INFO 140437049112384] Setting up with params: {'init_method': 'random', 'mini_batch_size': '5000', 'epochs': '1', 'extra_center_factor': 'auto', 'local_lloyd_max_iter': '300', 'local_lloyd_tol': '0.0001', 'local_lloyd_init_method': 'kmeans++', 'local_lloyd_num_trials': 'auto', 'half_life_time_size': '0', 'eval_metrics': '[\"msd\"]', 'force_dense': 'True', '_disable_wait_to_read': 'false', '_enable_profiler': 'false', '_kvstore': 'auto', '_log_level': 'info', '_num_gpus': 'auto', '_num_kv_servers': '1', '_num_slices': '1', '_tuning_objective_metric': '', 'feature_dim': '2', 'k': '10'}\u001b[0m\n",
      "\u001b[35m[12/24/2023 15:14:01 INFO 140437049112384] 'extra_center_factor' was set to 'auto', evaluated to 10.\u001b[0m\n",
      "\u001b[35m[12/24/2023 15:14:01 INFO 140437049112384] Number of GPUs being used: 0\u001b[0m\n",
      "\u001b[35m[12/24/2023 15:14:01 INFO 140437049112384] number of center slices 1\u001b[0m\n",
      "\u001b[35m#metrics {\"StartTime\": 1703430841.2647758, \"EndTime\": 1703430841.2648335, \"Dimensions\": {\"Algorithm\": \"AWS/KMeansWebscale\", \"Host\": \"algo-2\", \"Operation\": \"training\", \"Meta\": \"init_train_data_iter\"}, \"Metrics\": {\"Total Records Seen\": {\"sum\": 5000.0, \"count\": 1, \"min\": 5000, \"max\": 5000}, \"Total Batches Seen\": {\"sum\": 1.0, \"count\": 1, \"min\": 1, \"max\": 1}, \"Max Records Seen Between Resets\": {\"sum\": 5000.0, \"count\": 1, \"min\": 5000, \"max\": 5000}, \"Max Batches Seen Between Resets\": {\"sum\": 1.0, \"count\": 1, \"min\": 1, \"max\": 1}, \"Reset Count\": {\"sum\": 0.0, \"count\": 1, \"min\": 0, \"max\": 0}, \"Number of Records Since Last Reset\": {\"sum\": 5000.0, \"count\": 1, \"min\": 5000, \"max\": 5000}, \"Number of Batches Since Last Reset\": {\"sum\": 1.0, \"count\": 1, \"min\": 1, \"max\": 1}}}\u001b[0m\n",
      "\u001b[35m[2023-12-24 15:14:01.265] [tensorio] [info] epoch_stats={\"data_pipeline\": \"/opt/ml/input/data/train\", \"epoch\": 0, \"duration\": 31, \"num_examples\": 1, \"num_bytes\": 160000}\u001b[0m\n",
      "\u001b[35m[2023-12-24 15:14:01.308] [tensorio] [info] epoch_stats={\"data_pipeline\": \"/opt/ml/input/data/train\", \"epoch\": 1, \"duration\": 42, \"num_examples\": 2, \"num_bytes\": 288000}\u001b[0m\n",
      "\u001b[35m[12/24/2023 15:14:01 INFO 140437049112384] processed a total of 9000 examples\u001b[0m\n",
      "\u001b[35m[12/24/2023 15:14:01 INFO 140437049112384] #progress_metric: host=algo-2, completed 100.0 % of epochs\u001b[0m\n",
      "\u001b[35m#metrics {\"StartTime\": 1703430841.2652788, \"EndTime\": 1703430841.30923, \"Dimensions\": {\"Algorithm\": \"AWS/KMeansWebscale\", \"Host\": \"algo-2\", \"Operation\": \"training\", \"epoch\": 0, \"Meta\": \"training_data_iter\"}, \"Metrics\": {\"Total Records Seen\": {\"sum\": 14000.0, \"count\": 1, \"min\": 14000, \"max\": 14000}, \"Total Batches Seen\": {\"sum\": 3.0, \"count\": 1, \"min\": 3, \"max\": 3}, \"Max Records Seen Between Resets\": {\"sum\": 9000.0, \"count\": 1, \"min\": 9000, \"max\": 9000}, \"Max Batches Seen Between Resets\": {\"sum\": 2.0, \"count\": 1, \"min\": 2, \"max\": 2}, \"Reset Count\": {\"sum\": 1.0, \"count\": 1, \"min\": 1, \"max\": 1}, \"Number of Records Since Last Reset\": {\"sum\": 9000.0, \"count\": 1, \"min\": 9000, \"max\": 9000}, \"Number of Batches Since Last Reset\": {\"sum\": 2.0, \"count\": 1, \"min\": 2, \"max\": 2}}}\u001b[0m\n",
      "\u001b[35m[12/24/2023 15:14:01 INFO 140437049112384] #throughput_metric: host=algo-2, train throughput=204063.76733248643 records/second\u001b[0m\n",
      "\u001b[35m[12/24/2023 15:14:01 INFO 140437049112384] shrinking 100 centers into 10\u001b[0m\n",
      "\u001b[35m[12/24/2023 15:14:01 INFO 140437049112384] local kmeans attempt #0. Current mean square distance 60.831989\u001b[0m\n",
      "\u001b[35m[12/24/2023 15:14:01 INFO 140437049112384] local kmeans attempt #1. Current mean square distance 57.294525\u001b[0m\n",
      "\u001b[35m[12/24/2023 15:14:01 INFO 140437049112384] local kmeans attempt #2. Current mean square distance 55.434689\u001b[0m\n",
      "\u001b[35m[12/24/2023 15:14:01 INFO 140437049112384] local kmeans attempt #3. Current mean square distance 51.450920\u001b[0m\n",
      "\u001b[35m[12/24/2023 15:14:01 INFO 140437049112384] local kmeans attempt #4. Current mean square distance 58.258678\u001b[0m\n",
      "\u001b[35m[12/24/2023 15:14:01 INFO 140437049112384] local kmeans attempt #5. Current mean square distance 58.655338\u001b[0m\n",
      "\u001b[35m[12/24/2023 15:14:01 INFO 140437049112384] local kmeans attempt #6. Current mean square distance 53.818241\u001b[0m\n",
      "\u001b[35m[12/24/2023 15:14:01 INFO 140437049112384] local kmeans attempt #7. Current mean square distance 62.224697\u001b[0m\n",
      "\u001b[35m[12/24/2023 15:14:01 INFO 140437049112384] local kmeans attempt #8. Current mean square distance 60.116623\u001b[0m\n",
      "\u001b[35m[12/24/2023 15:14:01 INFO 140437049112384] local kmeans attempt #9. Current mean square distance 66.632538\u001b[0m\n",
      "\u001b[35m[12/24/2023 15:14:01 INFO 140437049112384] finished shrinking process. Mean Square Distance = 51\u001b[0m\n",
      "\u001b[35m[12/24/2023 15:14:01 INFO 140437049112384] #quality_metric: host=algo-2, train msd <loss>=51.45092010498047\u001b[0m\n",
      "\u001b[35m[12/24/2023 15:14:01 INFO 140437049112384] collect from kv store took: 21.2445%, (0.010515 secs)\u001b[0m\n",
      "\u001b[35m[12/24/2023 15:14:01 INFO 140437049112384] predict compute msd took: 17.9996%, (0.008909 secs)\u001b[0m\n",
      "\u001b[35m[12/24/2023 15:14:01 INFO 140437049112384] compute all data-center distances: inner product took: 16.8869%, (0.008358 secs)\u001b[0m\n",
      "\u001b[35m[12/24/2023 15:14:01 INFO 140437049112384] splitting centers key-value pair took: 14.2490%, (0.007052 secs)\u001b[0m\n",
      "\u001b[35m[12/24/2023 15:14:01 INFO 140437049112384] gradient: cluster size  took: 11.6073%, (0.005745 secs)\u001b[0m\n",
      "\u001b[35m[12/24/2023 15:14:01 INFO 140437049112384] batch data loading with context took: 10.8973%, (0.005394 secs)\u001b[0m\n",
      "\u001b[35m[12/24/2023 15:14:01 INFO 140437049112384] gradient: cluster center took: 2.7058%, (0.001339 secs)\u001b[0m\n",
      "\u001b[35m[12/24/2023 15:14:01 INFO 140437049112384] gradient: one_hot took: 1.1754%, (0.000582 secs)\u001b[0m\n",
      "\u001b[35m[12/24/2023 15:14:01 INFO 140437049112384] compute all data-center distances: point norm took: 0.9658%, (0.000478 secs)\u001b[0m\n",
      "\u001b[35m[12/24/2023 15:14:01 INFO 140437049112384] update state and report convergance took: 0.9548%, (0.000473 secs)\u001b[0m\n",
      "\u001b[35m[12/24/2023 15:14:01 INFO 140437049112384] update set-up time took: 0.6147%, (0.000304 secs)\u001b[0m\n",
      "\u001b[35m[12/24/2023 15:14:01 INFO 140437049112384] compute all data-center distances: center norm took: 0.6055%, (0.000300 secs)\u001b[0m\n",
      "\u001b[35m[12/24/2023 15:14:01 INFO 140437049112384] predict minus dist took: 0.0935%, (0.000046 secs)\u001b[0m\n",
      "\u001b[35m[12/24/2023 15:14:01 INFO 140437049112384] TOTAL took: 0.049494028091430664\u001b[0m\n",
      "\u001b[35m[12/24/2023 15:14:01 INFO 140437049112384] Number of GPUs being used: 0\u001b[0m\n",
      "\u001b[35m[12/24/2023 15:14:01 INFO 140437049112384] No model is serialized on a non-master node\u001b[0m\n",
      "\u001b[35m#metrics {\"StartTime\": 1703430841.2334175, \"EndTime\": 1703430841.5789924, \"Dimensions\": {\"Algorithm\": \"AWS/KMeansWebscale\", \"Host\": \"algo-2\", \"Operation\": \"training\"}, \"Metrics\": {\"initialize.time\": {\"sum\": 25.540828704833984, \"count\": 1, \"min\": 25.540828704833984, \"max\": 25.540828704833984}, \"epochs\": {\"sum\": 1.0, \"count\": 1, \"min\": 1, \"max\": 1}, \"update.time\": {\"sum\": 43.69401931762695, \"count\": 1, \"min\": 43.69401931762695, \"max\": 43.69401931762695}, \"_shrink.time\": {\"sum\": 266.61133766174316, \"count\": 1, \"min\": 266.61133766174316, \"max\": 266.61133766174316}, \"finalize.time\": {\"sum\": 268.6471939086914, \"count\": 1, \"min\": 268.6471939086914, \"max\": 268.6471939086914}, \"model.serialize.time\": {\"sum\": 0.0896453857421875, \"count\": 1, \"min\": 0.0896453857421875, \"max\": 0.0896453857421875}}}\u001b[0m\n",
      "\u001b[35m[12/24/2023 15:14:01 INFO 140437049112384] Test data is not provided.\u001b[0m\n",
      "\u001b[35m#metrics {\"StartTime\": 1703430841.5791008, \"EndTime\": 1703430841.5793467, \"Dimensions\": {\"Algorithm\": \"AWS/KMeansWebscale\", \"Host\": \"algo-2\", \"Operation\": \"training\"}, \"Metrics\": {\"setuptime\": {\"sum\": 9.029626846313477, \"count\": 1, \"min\": 9.029626846313477, \"max\": 9.029626846313477}, \"totaltime\": {\"sum\": 4232.818841934204, \"count\": 1, \"min\": 4232.818841934204, \"max\": 4232.818841934204}}}\u001b[0m\n",
      "\u001b[34m/opt/amazon/python3.8/lib/python3.8/subprocess.py:848: RuntimeWarning: line buffering (buffering=1) isn't supported in binary mode, the default buffer size will be used\n",
      "  self.stdout = io.open(c2pread, 'rb', bufsize)\u001b[0m\n",
      "\u001b[34m[12/24/2023 15:14:01 INFO 139908002719552] nvidia-smi: took 0.031 seconds to run.\u001b[0m\n",
      "\u001b[34m[12/24/2023 15:14:01 INFO 139908002719552] nvidia-smi identified 0 GPUs.\u001b[0m\n",
      "\u001b[34m[12/24/2023 15:14:01 INFO 139908002719552] Number of GPUs being used: 0\u001b[0m\n",
      "\u001b[34m[12/24/2023 15:14:01 INFO 139908002719552] Checkpoint loading and saving are disabled.\u001b[0m\n",
      "\u001b[34m[12/24/2023 15:14:01 INFO 139908002719552] Setting up with params: {'init_method': 'random', 'mini_batch_size': '5000', 'epochs': '1', 'extra_center_factor': 'auto', 'local_lloyd_max_iter': '300', 'local_lloyd_tol': '0.0001', 'local_lloyd_init_method': 'kmeans++', 'local_lloyd_num_trials': 'auto', 'half_life_time_size': '0', 'eval_metrics': '[\"msd\"]', 'force_dense': 'True', '_disable_wait_to_read': 'false', '_enable_profiler': 'false', '_kvstore': 'auto', '_log_level': 'info', '_num_gpus': 'auto', '_num_kv_servers': '1', '_num_slices': '1', '_tuning_objective_metric': '', 'feature_dim': '2', 'k': '10'}\u001b[0m\n",
      "\u001b[34m[12/24/2023 15:14:01 INFO 139908002719552] 'extra_center_factor' was set to 'auto', evaluated to 10.\u001b[0m\n",
      "\u001b[34m[12/24/2023 15:14:01 INFO 139908002719552] Number of GPUs being used: 0\u001b[0m\n",
      "\u001b[34m[12/24/2023 15:14:01 INFO 139908002719552] number of center slices 1\u001b[0m\n",
      "\u001b[34m#metrics {\"StartTime\": 1703430841.2644978, \"EndTime\": 1703430841.2645473, \"Dimensions\": {\"Algorithm\": \"AWS/KMeansWebscale\", \"Host\": \"algo-1\", \"Operation\": \"training\", \"Meta\": \"init_train_data_iter\"}, \"Metrics\": {\"Total Records Seen\": {\"sum\": 5000.0, \"count\": 1, \"min\": 5000, \"max\": 5000}, \"Total Batches Seen\": {\"sum\": 1.0, \"count\": 1, \"min\": 1, \"max\": 1}, \"Max Records Seen Between Resets\": {\"sum\": 5000.0, \"count\": 1, \"min\": 5000, \"max\": 5000}, \"Max Batches Seen Between Resets\": {\"sum\": 1.0, \"count\": 1, \"min\": 1, \"max\": 1}, \"Reset Count\": {\"sum\": 0.0, \"count\": 1, \"min\": 0, \"max\": 0}, \"Number of Records Since Last Reset\": {\"sum\": 5000.0, \"count\": 1, \"min\": 5000, \"max\": 5000}, \"Number of Batches Since Last Reset\": {\"sum\": 1.0, \"count\": 1, \"min\": 1, \"max\": 1}}}\u001b[0m\n",
      "\u001b[34m[2023-12-24 15:14:01.264] [tensorio] [info] epoch_stats={\"data_pipeline\": \"/opt/ml/input/data/train\", \"epoch\": 0, \"duration\": 31, \"num_examples\": 1, \"num_bytes\": 160000}\u001b[0m\n",
      "\u001b[34m[2023-12-24 15:14:01.304] [tensorio] [info] epoch_stats={\"data_pipeline\": \"/opt/ml/input/data/train\", \"epoch\": 1, \"duration\": 39, \"num_examples\": 2, \"num_bytes\": 288000}\u001b[0m\n",
      "\u001b[34m[12/24/2023 15:14:01 INFO 139908002719552] processed a total of 9000 examples\u001b[0m\n",
      "\u001b[34m[12/24/2023 15:14:01 INFO 139908002719552] #progress_metric: host=algo-1, completed 100.0 % of epochs\u001b[0m\n",
      "\u001b[34m#metrics {\"StartTime\": 1703430841.2649271, \"EndTime\": 1703430841.3058887, \"Dimensions\": {\"Algorithm\": \"AWS/KMeansWebscale\", \"Host\": \"algo-1\", \"Operation\": \"training\", \"epoch\": 0, \"Meta\": \"training_data_iter\"}, \"Metrics\": {\"Total Records Seen\": {\"sum\": 14000.0, \"count\": 1, \"min\": 14000, \"max\": 14000}, \"Total Batches Seen\": {\"sum\": 3.0, \"count\": 1, \"min\": 3, \"max\": 3}, \"Max Records Seen Between Resets\": {\"sum\": 9000.0, \"count\": 1, \"min\": 9000, \"max\": 9000}, \"Max Batches Seen Between Resets\": {\"sum\": 2.0, \"count\": 1, \"min\": 2, \"max\": 2}, \"Reset Count\": {\"sum\": 1.0, \"count\": 1, \"min\": 1, \"max\": 1}, \"Number of Records Since Last Reset\": {\"sum\": 9000.0, \"count\": 1, \"min\": 9000, \"max\": 9000}, \"Number of Batches Since Last Reset\": {\"sum\": 2.0, \"count\": 1, \"min\": 2, \"max\": 2}}}\u001b[0m\n",
      "\u001b[34m[12/24/2023 15:14:01 INFO 139908002719552] #throughput_metric: host=algo-1, train throughput=218986.8603484183 records/second\u001b[0m\n",
      "\u001b[34m[12/24/2023 15:14:01 INFO 139908002719552] shrinking 100 centers into 10\u001b[0m\n",
      "\u001b[34m[12/24/2023 15:14:01 INFO 139908002719552] local kmeans attempt #0. Current mean square distance 61.596691\u001b[0m\n",
      "\u001b[34m[12/24/2023 15:14:01 INFO 139908002719552] local kmeans attempt #1. Current mean square distance 56.430573\u001b[0m\n",
      "\u001b[34m[12/24/2023 15:14:01 INFO 139908002719552] local kmeans attempt #2. Current mean square distance 58.275585\u001b[0m\n",
      "\u001b[34m[12/24/2023 15:14:01 INFO 139908002719552] local kmeans attempt #3. Current mean square distance 55.716244\u001b[0m\n",
      "\u001b[34m[12/24/2023 15:14:01 INFO 139908002719552] local kmeans attempt #4. Current mean square distance 56.534641\u001b[0m\n",
      "\u001b[34m[12/24/2023 15:14:01 INFO 139908002719552] local kmeans attempt #5. Current mean square distance 55.449966\u001b[0m\n",
      "\u001b[34m[12/24/2023 15:14:01 INFO 139908002719552] local kmeans attempt #6. Current mean square distance 58.097504\u001b[0m\n",
      "\u001b[34m[12/24/2023 15:14:01 INFO 139908002719552] local kmeans attempt #7. Current mean square distance 51.945637\u001b[0m\n",
      "\u001b[34m[12/24/2023 15:14:01 INFO 139908002719552] local kmeans attempt #8. Current mean square distance 58.236488\u001b[0m\n",
      "\u001b[34m[12/24/2023 15:14:01 INFO 139908002719552] local kmeans attempt #9. Current mean square distance 56.534641\u001b[0m\n",
      "\u001b[34m[12/24/2023 15:14:01 INFO 139908002719552] finished shrinking process. Mean Square Distance = 52\u001b[0m\n",
      "\u001b[34m[12/24/2023 15:14:01 INFO 139908002719552] #quality_metric: host=algo-1, train msd <loss>=51.94563674926758\u001b[0m\n",
      "\u001b[34m[12/24/2023 15:14:01 INFO 139908002719552] predict compute msd took: 18.8895%, (0.008894 secs)\u001b[0m\n",
      "\u001b[34m[12/24/2023 15:14:01 INFO 139908002719552] collect from kv store took: 18.8014%, (0.008853 secs)\u001b[0m\n",
      "\u001b[34m[12/24/2023 15:14:01 INFO 139908002719552] compute all data-center distances: inner product took: 17.3102%, (0.008151 secs)\u001b[0m\n",
      "\u001b[34m[12/24/2023 15:14:01 INFO 139908002719552] splitting centers key-value pair took: 16.1202%, (0.007590 secs)\u001b[0m\n",
      "\u001b[34m[12/24/2023 15:14:01 INFO 139908002719552] gradient: cluster size  took: 11.3479%, (0.005343 secs)\u001b[0m\n",
      "\u001b[34m[12/24/2023 15:14:01 INFO 139908002719552] batch data loading with context took: 10.4622%, (0.004926 secs)\u001b[0m\n",
      "\u001b[34m[12/24/2023 15:14:01 INFO 139908002719552] gradient: cluster center took: 2.7282%, (0.001285 secs)\u001b[0m\n",
      "\u001b[34m[12/24/2023 15:14:01 INFO 139908002719552] gradient: one_hot took: 1.1899%, (0.000560 secs)\u001b[0m\n",
      "\u001b[34m[12/24/2023 15:14:01 INFO 139908002719552] compute all data-center distances: point norm took: 1.0522%, (0.000495 secs)\u001b[0m\n",
      "\u001b[34m[12/24/2023 15:14:01 INFO 139908002719552] update state and report convergance took: 0.9747%, (0.000459 secs)\u001b[0m\n",
      "\u001b[34m[12/24/2023 15:14:01 INFO 139908002719552] update set-up time took: 0.6076%, (0.000286 secs)\u001b[0m\n",
      "\u001b[34m[12/24/2023 15:14:01 INFO 139908002719552] compute all data-center distances: center norm took: 0.4243%, (0.000200 secs)\u001b[0m\n",
      "\u001b[34m[12/24/2023 15:14:01 INFO 139908002719552] predict minus dist took: 0.0916%, (0.000043 secs)\u001b[0m\n",
      "\u001b[34m[12/24/2023 15:14:01 INFO 139908002719552] TOTAL took: 0.04708552360534668\u001b[0m\n",
      "\u001b[34m[12/24/2023 15:14:01 INFO 139908002719552] Number of GPUs being used: 0\u001b[0m\n",
      "\u001b[34m#metrics {\"StartTime\": 1703430841.2328432, \"EndTime\": 1703430841.6751673, \"Dimensions\": {\"Algorithm\": \"AWS/KMeansWebscale\", \"Host\": \"algo-1\", \"Operation\": \"training\"}, \"Metrics\": {\"initialize.time\": {\"sum\": 26.300430297851562, \"count\": 1, \"min\": 26.300430297851562, \"max\": 26.300430297851562}, \"epochs\": {\"sum\": 1.0, \"count\": 1, \"min\": 1, \"max\": 1}, \"update.time\": {\"sum\": 40.721893310546875, \"count\": 1, \"min\": 40.721893310546875, \"max\": 40.721893310546875}, \"_shrink.time\": {\"sum\": 363.0537986755371, \"count\": 1, \"min\": 363.0537986755371, \"max\": 363.0537986755371}, \"finalize.time\": {\"sum\": 364.87650871276855, \"count\": 1, \"min\": 364.87650871276855, \"max\": 364.87650871276855}, \"model.serialize.time\": {\"sum\": 0.18095970153808594, \"count\": 1, \"min\": 0.18095970153808594, \"max\": 0.18095970153808594}}}\u001b[0m\n",
      "\u001b[34m[12/24/2023 15:14:01 INFO 139908002719552] Test data is not provided.\u001b[0m\n",
      "\u001b[34m#metrics {\"StartTime\": 1703430841.6752856, \"EndTime\": 1703430841.6755033, \"Dimensions\": {\"Algorithm\": \"AWS/KMeansWebscale\", \"Host\": \"algo-1\", \"Operation\": \"training\"}, \"Metrics\": {\"setuptime\": {\"sum\": 22.28379249572754, \"count\": 1, \"min\": 22.28379249572754, \"max\": 22.28379249572754}, \"totaltime\": {\"sum\": 1328.0751705169678, \"count\": 1, \"min\": 1328.0751705169678, \"max\": 1328.0751705169678}}}\u001b[0m\n",
      "\n",
      "2023-12-24 15:14:18 Uploading - Uploading generated training model\n",
      "2023-12-24 15:14:18 Completed - Training job completed\n",
      "Training seconds: 284\n",
      "Billable seconds: 284\n",
      "CPU times: user 988 ms, sys: 42.7 ms, total: 1.03 s\n",
      "Wall time: 4min 13s\n"
     ]
    }
   ],
   "source": [
    "%%time\n",
    "kmeans.fit(kmeans.record_set(data), job_name=job_name)"
   ]
  },
  {
   "cell_type": "code",
   "execution_count": 24,
   "id": "1d8a06e2",
   "metadata": {},
   "outputs": [
    {
     "name": "stdout",
     "output_type": "stream",
     "text": [
      "model_algo-1\n",
      "Archive:  model_algo-1\n"
     ]
    },
    {
     "name": "stderr",
     "output_type": "stream",
     "text": [
      "tar: Ignoring unknown extended header keyword `LIBARCHIVE.creationtime'\n",
      "  End-of-central-directory signature not found.  Either this file is not\n",
      "  a zipfile, or it constitutes one disk of a multi-part archive.  In the\n",
      "  latter case the central directory and zipfile comment will be found on\n",
      "  the last disk(s) of this archive.\n",
      "unzip:  cannot find zipfile directory in one of model_algo-1 or\n",
      "        model_algo-1.zip, and cannot find model_algo-1.ZIP, period.\n"
     ]
    },
    {
     "data": {
      "text/plain": [
       "2304"
      ]
     },
     "execution_count": 24,
     "metadata": {},
     "output_type": "execute_result"
    }
   ],
   "source": [
    "import os\n",
    "\n",
    "model_key = f'model-artifacts/{job_name}/output/model.tar.gz'\n",
    "boto3.resource('s3').Bucket(bucket).download_file(model_key, 'model.tar.gz')\n",
    "os.system('tar -zxvf model.tar.gz')\n",
    "os.system('unzip model_algo-1')"
   ]
  },
  {
   "cell_type": "code",
   "execution_count": 25,
   "id": "14117f12",
   "metadata": {},
   "outputs": [
    {
     "name": "stdout",
     "output_type": "stream",
     "text": [
      "Collecting mxnet\n",
      "  Downloading mxnet-1.9.1-py3-none-manylinux2014_x86_64.whl (49.1 MB)\n",
      "\u001b[2K     \u001b[90m━━━━━━━━━━━━━━━━━━━━━━━━━━━━━━━━━━━━━━━━\u001b[0m \u001b[32m49.1/49.1 MB\u001b[0m \u001b[31m16.1 MB/s\u001b[0m eta \u001b[36m0:00:00\u001b[0m00:01\u001b[0m00:01\u001b[0m\n",
      "\u001b[?25hRequirement already satisfied: numpy<2.0.0,>1.16.0 in /home/ec2-user/anaconda3/envs/python3/lib/python3.10/site-packages (from mxnet) (1.22.4)\n",
      "Requirement already satisfied: requests<3,>=2.20.0 in /home/ec2-user/anaconda3/envs/python3/lib/python3.10/site-packages (from mxnet) (2.31.0)\n",
      "Collecting graphviz<0.9.0,>=0.8.1 (from mxnet)\n",
      "  Downloading graphviz-0.8.4-py2.py3-none-any.whl (16 kB)\n",
      "Requirement already satisfied: charset-normalizer<4,>=2 in /home/ec2-user/anaconda3/envs/python3/lib/python3.10/site-packages (from requests<3,>=2.20.0->mxnet) (3.3.1)\n",
      "Requirement already satisfied: idna<4,>=2.5 in /home/ec2-user/anaconda3/envs/python3/lib/python3.10/site-packages (from requests<3,>=2.20.0->mxnet) (3.4)\n",
      "Requirement already satisfied: urllib3<3,>=1.21.1 in /home/ec2-user/anaconda3/envs/python3/lib/python3.10/site-packages (from requests<3,>=2.20.0->mxnet) (1.26.18)\n",
      "Requirement already satisfied: certifi>=2017.4.17 in /home/ec2-user/anaconda3/envs/python3/lib/python3.10/site-packages (from requests<3,>=2.20.0->mxnet) (2023.7.22)\n",
      "Installing collected packages: graphviz, mxnet\n",
      "Successfully installed graphviz-0.8.4 mxnet-1.9.1\n"
     ]
    }
   ],
   "source": [
    "!pip install mxnet"
   ]
  },
  {
   "cell_type": "code",
   "execution_count": 26,
   "id": "1a05f91c",
   "metadata": {},
   "outputs": [],
   "source": [
    "import mxnet as mx\n",
    "Kmeans_model_params = mx.ndarray.load('model_algo-1')"
   ]
  },
  {
   "cell_type": "code",
   "execution_count": 27,
   "id": "1a00fc2e",
   "metadata": {},
   "outputs": [
    {
     "data": {
      "text/html": [
       "<div>\n",
       "<style scoped>\n",
       "    .dataframe tbody tr th:only-of-type {\n",
       "        vertical-align: middle;\n",
       "    }\n",
       "\n",
       "    .dataframe tbody tr th {\n",
       "        vertical-align: top;\n",
       "    }\n",
       "\n",
       "    .dataframe thead th {\n",
       "        text-align: right;\n",
       "    }\n",
       "</style>\n",
       "<table border=\"1\" class=\"dataframe\">\n",
       "  <thead>\n",
       "    <tr style=\"text-align: right;\">\n",
       "      <th></th>\n",
       "      <th>latitude</th>\n",
       "      <th>longitude</th>\n",
       "    </tr>\n",
       "  </thead>\n",
       "  <tbody>\n",
       "    <tr>\n",
       "      <th>0</th>\n",
       "      <td>39.531040</td>\n",
       "      <td>-118.351028</td>\n",
       "    </tr>\n",
       "    <tr>\n",
       "      <th>1</th>\n",
       "      <td>36.538239</td>\n",
       "      <td>-84.715729</td>\n",
       "    </tr>\n",
       "    <tr>\n",
       "      <th>2</th>\n",
       "      <td>16.144054</td>\n",
       "      <td>69.983337</td>\n",
       "    </tr>\n",
       "    <tr>\n",
       "      <th>3</th>\n",
       "      <td>52.039307</td>\n",
       "      <td>-0.332039</td>\n",
       "    </tr>\n",
       "    <tr>\n",
       "      <th>4</th>\n",
       "      <td>-37.596992</td>\n",
       "      <td>162.684753</td>\n",
       "    </tr>\n",
       "    <tr>\n",
       "      <th>5</th>\n",
       "      <td>41.049885</td>\n",
       "      <td>-74.562927</td>\n",
       "    </tr>\n",
       "    <tr>\n",
       "      <th>6</th>\n",
       "      <td>35.985737</td>\n",
       "      <td>-98.411423</td>\n",
       "    </tr>\n",
       "    <tr>\n",
       "      <th>7</th>\n",
       "      <td>64.884079</td>\n",
       "      <td>-154.374054</td>\n",
       "    </tr>\n",
       "    <tr>\n",
       "      <th>8</th>\n",
       "      <td>-18.852001</td>\n",
       "      <td>-54.809128</td>\n",
       "    </tr>\n",
       "    <tr>\n",
       "      <th>9</th>\n",
       "      <td>21.979956</td>\n",
       "      <td>-158.488373</td>\n",
       "    </tr>\n",
       "  </tbody>\n",
       "</table>\n",
       "</div>"
      ],
      "text/plain": [
       "    latitude   longitude\n",
       "0  39.531040 -118.351028\n",
       "1  36.538239  -84.715729\n",
       "2  16.144054   69.983337\n",
       "3  52.039307   -0.332039\n",
       "4 -37.596992  162.684753\n",
       "5  41.049885  -74.562927\n",
       "6  35.985737  -98.411423\n",
       "7  64.884079 -154.374054\n",
       "8 -18.852001  -54.809128\n",
       "9  21.979956 -158.488373"
      ]
     },
     "execution_count": 27,
     "metadata": {},
     "output_type": "execute_result"
    }
   ],
   "source": [
    "cluster_centroids_kmeans = pd.DataFrame(Kmeans_model_params[0].asnumpy())\n",
    "cluster_centroids_kmeans.columns=df_geo.columns\n",
    "cluster_centroids_kmeans"
   ]
  },
  {
   "cell_type": "code",
   "execution_count": 28,
   "id": "0103fc6c",
   "metadata": {},
   "outputs": [
    {
     "data": {
      "text/plain": [
       "{'ResponseMetadata': {'RequestId': '55AH5H4D2H28ZZ30',\n",
       "  'HostId': 'GTamHecVE9Y05i9zDT5Cs4mQvKPmp37Jr0+9MEklV/Af/mBSxsFkelEfShDZRsSUdbbNs2yn4G5FUQv8DnXsNckRcRvvSFNuELjWZ6L4wgA=',\n",
       "  'HTTPStatusCode': 200,\n",
       "  'HTTPHeaders': {'x-amz-id-2': 'GTamHecVE9Y05i9zDT5Cs4mQvKPmp37Jr0+9MEklV/Af/mBSxsFkelEfShDZRsSUdbbNs2yn4G5FUQv8DnXsNckRcRvvSFNuELjWZ6L4wgA=',\n",
       "   'x-amz-request-id': '55AH5H4D2H28ZZ30',\n",
       "   'date': 'Sun, 24 Dec 2023 15:20:07 GMT',\n",
       "   'x-amz-server-side-encryption': 'AES256',\n",
       "   'etag': '\"531900088e62eabf5fe97d9d3c6258a8\"',\n",
       "   'server': 'AmazonS3',\n",
       "   'content-length': '0'},\n",
       "  'RetryAttempts': 0},\n",
       " 'ETag': '\"531900088e62eabf5fe97d9d3c6258a8\"',\n",
       " 'ServerSideEncryption': 'AES256'}"
      ]
     },
     "execution_count": 28,
     "metadata": {},
     "output_type": "execute_result"
    }
   ],
   "source": [
    "from io import StringIO\n",
    "\n",
    "csv_buffer = StringIO()\n",
    "cluster_centroids_kmeans.to_csv(csv_buffer, index=False)\n",
    "s3_resource = boto3.resource('s3')\n",
    "s3_resource.Object(bucket, 'results/ten_locations_kmeans.csv').put(Body=csv_buffer.getvalue())"
   ]
  },
  {
   "cell_type": "code",
   "execution_count": null,
   "id": "e9579ecf",
   "metadata": {},
   "outputs": [],
   "source": []
  }
 ],
 "metadata": {
  "kernelspec": {
   "display_name": "conda_python3",
   "language": "python",
   "name": "conda_python3"
  },
  "language_info": {
   "codemirror_mode": {
    "name": "ipython",
    "version": 3
   },
   "file_extension": ".py",
   "mimetype": "text/x-python",
   "name": "python",
   "nbconvert_exporter": "python",
   "pygments_lexer": "ipython3",
   "version": "3.10.13"
  }
 },
 "nbformat": 4,
 "nbformat_minor": 5
}
